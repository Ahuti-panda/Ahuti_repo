{
  "nbformat": 4,
  "nbformat_minor": 0,
  "metadata": {
    "colab": {
      "provenance": [],
      "include_colab_link": true
    },
    "kernelspec": {
      "name": "python3",
      "display_name": "Python 3"
    },
    "language_info": {
      "name": "python"
    }
  },
  "cells": [
    {
      "cell_type": "markdown",
      "metadata": {
        "id": "view-in-github",
        "colab_type": "text"
      },
      "source": [
        "<a href=\"https://colab.research.google.com/github/Ahuti-panda/Ahuti_repo/blob/master/AHUTI_PANDA_IF_PG.ipynb\" target=\"_parent\"><img src=\"https://colab.research.google.com/assets/colab-badge.svg\" alt=\"Open In Colab\"/></a>"
      ]
    },
    {
      "cell_type": "markdown",
      "source": [
        "Task-1: Problem Statement  \n",
        "\n",
        "Task-2: Data Exploration and Validation\n",
        "\n",
        "Task-3: Data Cleaning\n",
        "\n",
        "Task-4: Model Building Simple Models(Logistic Regregression and\n",
        "Decision trees)\n",
        "\n",
        "Task-5: Model Validation metrics calculation\n",
        "\n",
        "Task-6: Handling Class imbalance(Rebuild Simple ML models)\n",
        "\n",
        "Task-7: Feature Engineering\n",
        "\n",
        "Task-8: Ensemble Methods - XGB and RF\n",
        "\n",
        "Task-9: Model presentation\n",
        "\n",
        "Task-10: Interview questions on the project\n",
        "\n",
        "\n"
      ],
      "metadata": {
        "id": "eWypJx2YtioD"
      }
    },
    {
      "cell_type": "markdown",
      "source": [
        "# Project Objective\n",
        "## Background\n",
        "## Goal, Number of Resources, Business Impact, Time Taken\n",
        "\n"
      ],
      "metadata": {
        "id": "QBVpNTJ-tmZ0"
      }
    },
    {
      "cell_type": "code",
      "source": [
        "Credit score cards are a common risk control method in the financial industry.\n",
        "It uses personal information and data submitted by credit card applicants to predict the probability of future defaults and credit card borrowings.\n",
        "The bank is able to decide whether to issue a credit card to the applicant.\n",
        "Credit scores can objectively quantify the magnitude of risk.\n",
        "Credit score cards are based on historical data.Past models may lose their original predictive power.\n",
        "Logistic model is a common method for credit scoring.\n",
        "Because Logistic is suitable for binary classification tasks and can calculate the coefficients of each feature.\n",
        "In order to facilitate understanding and operation, the score card will multiply the logistic regression coefficient by a certain value (such as 100) and round it.\n",
        "Predictive methods such as Boosting, Random Forest, and Support Vector Machines have been introduced into credit card scoring."
      ],
      "metadata": {
        "id": "MTMvpDNXuHhE"
      },
      "execution_count": null,
      "outputs": []
    },
    {
      "cell_type": "markdown",
      "source": [],
      "metadata": {
        "id": "21DHcgt9lqXd"
      }
    },
    {
      "cell_type": "markdown",
      "source": [
        "\n",
        "# Data Exploration and Validation\n"
      ],
      "metadata": {
        "id": "7C1vjC5St_t0"
      }
    },
    {
      "cell_type": "markdown",
      "source": [
        "# Download from Github\n",
        "\n",
        "Create a logionid on github\n",
        "Upload your file on to github, then use the link here\n"
      ],
      "metadata": {
        "id": "ljzWnhkc5kfJ"
      }
    },
    {
      "cell_type": "code",
      "source": [
        "import pandas as pd\n",
        "credit_risk_data=pd.read_csv(\"https://raw.githubusercontent.com/datavedi1/my_datasets/main/credit_risk_data/UCI_Credit_Card.csv\")\n",
        "credit_risk_data.info()"
      ],
      "metadata": {
        "id": "wtpjkxtHuJmD",
        "colab": {
          "base_uri": "https://localhost:8080/"
        },
        "outputId": "2227b9c7-1758-467f-fd38-0b8d22111f1f"
      },
      "execution_count": null,
      "outputs": [
        {
          "output_type": "stream",
          "name": "stdout",
          "text": [
            "<class 'pandas.core.frame.DataFrame'>\n",
            "RangeIndex: 30000 entries, 0 to 29999\n",
            "Data columns (total 25 columns):\n",
            " #   Column                      Non-Null Count  Dtype  \n",
            "---  ------                      --------------  -----  \n",
            " 0   ID                          30000 non-null  int64  \n",
            " 1   LIMIT_BAL                   30000 non-null  float64\n",
            " 2   SEX                         30000 non-null  int64  \n",
            " 3   EDUCATION                   30000 non-null  int64  \n",
            " 4   MARRIAGE                    30000 non-null  int64  \n",
            " 5   AGE                         30000 non-null  int64  \n",
            " 6   PAY_0                       30000 non-null  int64  \n",
            " 7   PAY_2                       30000 non-null  int64  \n",
            " 8   PAY_3                       30000 non-null  int64  \n",
            " 9   PAY_4                       30000 non-null  int64  \n",
            " 10  PAY_5                       30000 non-null  int64  \n",
            " 11  PAY_6                       30000 non-null  int64  \n",
            " 12  BILL_AMT1                   30000 non-null  float64\n",
            " 13  BILL_AMT2                   30000 non-null  float64\n",
            " 14  BILL_AMT3                   30000 non-null  float64\n",
            " 15  BILL_AMT4                   30000 non-null  float64\n",
            " 16  BILL_AMT5                   30000 non-null  float64\n",
            " 17  BILL_AMT6                   30000 non-null  float64\n",
            " 18  PAY_AMT1                    30000 non-null  float64\n",
            " 19  PAY_AMT2                    30000 non-null  float64\n",
            " 20  PAY_AMT3                    30000 non-null  float64\n",
            " 21  PAY_AMT4                    30000 non-null  float64\n",
            " 22  PAY_AMT5                    30000 non-null  float64\n",
            " 23  PAY_AMT6                    30000 non-null  float64\n",
            " 24  default.payment.next.month  30000 non-null  int64  \n",
            "dtypes: float64(13), int64(12)\n",
            "memory usage: 5.7 MB\n"
          ]
        }
      ]
    },
    {
      "cell_type": "markdown",
      "source": [
        "# Download from Google Drive"
      ],
      "metadata": {
        "id": "VtzC54S05n69"
      }
    },
    {
      "cell_type": "markdown",
      "source": [
        "Save it to google drive. Share the link. In the link you will get the file id."
      ],
      "metadata": {
        "id": "_RpsU36A_fuz"
      }
    },
    {
      "cell_type": "code",
      "source": [
        "from pydrive.auth import GoogleAuth\n",
        "from pydrive.drive import GoogleDrive\n",
        "from google.colab import auth\n",
        "from oauth2client.client import GoogleCredentials\n",
        "auth.authenticate_user()\n",
        "gauth = GoogleAuth()\n",
        "gauth.credentials = GoogleCredentials.get_application_default()\n",
        "drive = GoogleDrive(gauth)"
      ],
      "metadata": {
        "id": "SFyJwEdmuJwK"
      },
      "execution_count": null,
      "outputs": []
    },
    {
      "cell_type": "code",
      "source": [],
      "metadata": {
        "id": "tCfjOdudPAnN"
      },
      "execution_count": null,
      "outputs": []
    },
    {
      "cell_type": "markdown",
      "source": [
        "*   Update \"id\" with your google drive file ID\n",
        "*   Update file names if required\n",
        "\n"
      ],
      "metadata": {
        "id": "G0I0pSIOS_HM"
      }
    },
    {
      "cell_type": "code",
      "source": [
        "downloaded = drive.CreateFile({'id':\"1GUyZMR14nT5u3a9OQA9BcOGBsCcs83Fg\"})\n",
        "downloaded.GetContentFile('train_sample.csv')\n",
        "train = pd.read_csv('train_sample.csv')\n",
        "train.info()"
      ],
      "metadata": {
        "id": "bugjbOR3S907"
      },
      "execution_count": null,
      "outputs": []
    },
    {
      "cell_type": "markdown",
      "source": [
        "#Zip file on GDrive"
      ],
      "metadata": {
        "id": "ltFrpySe7wpL"
      }
    },
    {
      "cell_type": "code",
      "source": [
        "auth.authenticate_user()\n",
        "gauth = GoogleAuth()\n",
        "gauth.credentials = GoogleCredentials.get_application_default()\n",
        "drive = GoogleDrive(gauth)\n",
        "downloaded = drive.CreateFile({'id':\"119UU7nc57Ng4L8-69hnXiiIcmOU8nzJT\"})\n",
        "downloaded.GetContentFile('cell_images.zip')\n",
        "!unzip -qq 'cell_images.zip'\n",
        "!ls ./cell_images"
      ],
      "metadata": {
        "id": "OCVFx-My7vxX"
      },
      "execution_count": null,
      "outputs": []
    },
    {
      "cell_type": "markdown",
      "source": [
        "# Data Exploration"
      ],
      "metadata": {
        "id": "eX3yEdPrbyWN"
      }
    },
    {
      "cell_type": "markdown",
      "source": [
        "## Discrete/Categorical Variables Exploration"
      ],
      "metadata": {
        "id": "b09pStwvb0of"
      }
    },
    {
      "cell_type": "markdown",
      "source": [
        "## Cat Var1"
      ],
      "metadata": {
        "id": "DgLxNcsMb4mT"
      }
    },
    {
      "cell_type": "markdown",
      "source": [
        "Findings"
      ],
      "metadata": {
        "id": "CnZWSKrxcA-8"
      }
    },
    {
      "cell_type": "markdown",
      "source": [
        "## Cat Var2"
      ],
      "metadata": {
        "id": "IqaxDC0Vb7iv"
      }
    },
    {
      "cell_type": "markdown",
      "source": [
        "Findings"
      ],
      "metadata": {
        "id": "rPTiZwdgcCZV"
      }
    },
    {
      "cell_type": "markdown",
      "source": [
        "## Cat Var3.."
      ],
      "metadata": {
        "id": "k-rM4zRjb97N"
      }
    },
    {
      "cell_type": "markdown",
      "source": [
        "Findings"
      ],
      "metadata": {
        "id": "mDxE670mcD5U"
      }
    },
    {
      "cell_type": "markdown",
      "source": [
        "## Continuous Variables Exploration"
      ],
      "metadata": {
        "id": "RBrQRLEZcTom"
      }
    },
    {
      "cell_type": "markdown",
      "source": [
        "## Continuous Var1"
      ],
      "metadata": {
        "id": "xy8E_UHbcjEN"
      }
    },
    {
      "cell_type": "markdown",
      "source": [
        "Findings"
      ],
      "metadata": {
        "id": "_QjGkCDVcjEO"
      }
    },
    {
      "cell_type": "markdown",
      "source": [
        "## Continuous Var2"
      ],
      "metadata": {
        "id": "kTEjMRKNcjEO"
      }
    },
    {
      "cell_type": "markdown",
      "source": [
        "Findings"
      ],
      "metadata": {
        "id": "Ga5JDxQ5cjEO"
      }
    },
    {
      "cell_type": "markdown",
      "source": [
        "## Continuous Var3.."
      ],
      "metadata": {
        "id": "4qb-6SRAcjEP"
      }
    },
    {
      "cell_type": "markdown",
      "source": [
        "Findings"
      ],
      "metadata": {
        "id": "tazXLGWLcjEP"
      }
    },
    {
      "cell_type": "markdown",
      "source": [
        "# Data Cleaning and Data Preparation"
      ],
      "metadata": {
        "id": "-EPlIzkSuFf6"
      }
    },
    {
      "cell_type": "markdown",
      "source": [
        "## Var1 Cleaning"
      ],
      "metadata": {
        "id": "aRynIo4gcwHw"
      }
    },
    {
      "cell_type": "markdown",
      "source": [
        "## Var2 Cleaning"
      ],
      "metadata": {
        "id": "QxtX87e-czhs"
      }
    },
    {
      "cell_type": "code",
      "source": [],
      "metadata": {
        "id": "0qUJKLisuP6C"
      },
      "execution_count": null,
      "outputs": []
    },
    {
      "cell_type": "code",
      "source": [],
      "metadata": {
        "id": "j-B2cvuSuP9b"
      },
      "execution_count": null,
      "outputs": []
    },
    {
      "cell_type": "markdown",
      "source": [
        "# Model Building\n",
        "Select the right model, Include Feature Engineering, Perform Model Validation, Multiple models and performance comparison\n"
      ],
      "metadata": {
        "id": "MPohYFNGvAgs"
      }
    },
    {
      "cell_type": "code",
      "source": [],
      "metadata": {
        "id": "CLfA9QM9vR6B"
      },
      "execution_count": null,
      "outputs": []
    },
    {
      "cell_type": "code",
      "source": [],
      "metadata": {
        "id": "WnR-d4DXvSBJ"
      },
      "execution_count": null,
      "outputs": []
    },
    {
      "cell_type": "markdown",
      "source": [
        "# Model Validation\n",
        "Confusion matrix, Sensitivity, Specificity, F1 Score, Recall, Precision etc."
      ],
      "metadata": {
        "id": "hafQufIYvTCS"
      }
    },
    {
      "cell_type": "code",
      "source": [],
      "metadata": {
        "id": "6RHq0EfVvkkz"
      },
      "execution_count": null,
      "outputs": []
    },
    {
      "cell_type": "code",
      "source": [],
      "metadata": {
        "id": "CRmdwZDIvkrP"
      },
      "execution_count": null,
      "outputs": []
    },
    {
      "cell_type": "code",
      "source": [],
      "metadata": {
        "id": "VbN-ze2YvkuY"
      },
      "execution_count": null,
      "outputs": []
    },
    {
      "cell_type": "markdown",
      "source": [
        "# Model  Deployment\n",
        "## Optional step"
      ],
      "metadata": {
        "id": "CWYNRwm2vlDs"
      }
    },
    {
      "cell_type": "code",
      "source": [],
      "metadata": {
        "id": "ubQzEKTHvsUu"
      },
      "execution_count": null,
      "outputs": []
    },
    {
      "cell_type": "code",
      "source": [],
      "metadata": {
        "id": "456tAxZGvsYJ"
      },
      "execution_count": null,
      "outputs": []
    }
  ]
}